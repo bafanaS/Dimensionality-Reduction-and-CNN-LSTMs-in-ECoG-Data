{
  "cells": [
    {
      "cell_type": "markdown",
      "metadata": {
        "id": "view-in-github",
        "colab_type": "text"
      },
      "source": [
        "<a href=\"https://colab.research.google.com/github/bafanaS/dim-reduction-with-cnn-lstm/blob/main/CNN_or_CNN_LSTM_for_Real_%26_Imagery_Data.ipynb\" target=\"_parent\"><img src=\"https://colab.research.google.com/assets/colab-badge.svg\" alt=\"Open In Colab\"/></a>"
      ]
    },
    {
      "cell_type": "markdown",
      "source": [
        "# CNN / CNN LSTM for Real and Imagery\n",
        "\n",
        "This notebook was used to do all DL testing in regards to real and imagery classification"
      ],
      "metadata": {
        "id": "i0nPPxVAx3uv"
      }
    },
    {
      "cell_type": "markdown",
      "source": [
        "# Data Processing"
      ],
      "metadata": {
        "id": "pAjzWx5ryGKZ"
      }
    },
    {
      "cell_type": "code",
      "execution_count": 1,
      "metadata": {
        "id": "XkMzudPDBTq5"
      },
      "outputs": [],
      "source": [
        "import numpy as np\n",
        "import pandas as pd"
      ]
    },
    {
      "cell_type": "code",
      "execution_count": 2,
      "metadata": {
        "id": "iD1QDE3fW5As"
      },
      "outputs": [],
      "source": [
        "\n",
        "\n",
        "from matplotlib import rcParams # rcParams is a file that specifies Matplotlib style defaults\n",
        "from matplotlib import pyplot as plt\n",
        "\n",
        "rcParams['figure.figsize'] = [20, 4]\n",
        "rcParams['font.size'] = 15\n",
        "rcParams['axes.spines.top'] = False\n",
        "rcParams['axes.spines.right'] = False\n",
        "rcParams['figure.autolayout'] = True"
      ]
    },
    {
      "cell_type": "code",
      "execution_count": 3,
      "metadata": {
        "id": "B7v0ggL-BA5o"
      },
      "outputs": [],
      "source": [
        "import os, requests\n",
        "\n",
        "fname = 'motor_imagery.npz'\n",
        "url = \"https://osf.io/ksqv8/download\"\n",
        "\n",
        "if not os.path.isfile(fname):\n",
        "  try:\n",
        "    r = requests.get(url)\n",
        "  except requests.ConnectionError:\n",
        "    print(\"!!! Failed to download data !!!\")\n",
        "  else:\n",
        "    if r.status_code != requests.codes.ok:\n",
        "      print(\"!!! Failed to download data !!!\")\n",
        "    else:\n",
        "      with open(fname, \"wb\") as fid:\n",
        "        fid.write(r.content)"
      ]
    },
    {
      "cell_type": "code",
      "execution_count": 4,
      "metadata": {
        "id": "-DQ2NRiHXJj1"
      },
      "outputs": [],
      "source": [
        "alldat = np.load(fname, allow_pickle=True)['dat']"
      ]
    },
    {
      "cell_type": "code",
      "source": [
        "participant=2"
      ],
      "metadata": {
        "id": "Guwhoj9wzgcQ"
      },
      "execution_count": 7,
      "outputs": []
    },
    {
      "cell_type": "code",
      "execution_count": 8,
      "metadata": {
        "id": "amVg8ekCpcYu"
      },
      "outputs": [],
      "source": [
        "# trained initial sets on participant 1 and now attempting to fine tune on participant 2 with only the dense layers\n",
        "from scipy import signal\n",
        "import numpy as np\n",
        "\n",
        "# Find resting state intervals and add to tongue/hand interval list.\n",
        "intervals = [(on, off) for on, off in zip(alldat[participant][0]['t_on'], alldat[participant][0]['t_off'])]\n",
        "resting = [(intervals[i][1], intervals[i+1][0]) for i in range(0, len(intervals)-1)]\n",
        "intervals = np.append(np.array(intervals), np.array(resting), axis = 0)\n",
        "\n",
        "classes = np.append(np.array([0 if i < 12 else 1 for i in alldat[participant][0]['stim_id']]), np.repeat(2, len(resting)))\n",
        "\n",
        "channels = len(alldat[participant][0]['locs'])\n",
        "stims = len(intervals)\n",
        "\n",
        "X_real = np.empty((stims, 3000, channels))\n",
        "y_real = np.empty((stims))\n",
        "\n",
        "for i in range(stims):\n",
        "\n",
        "    t_on = intervals[i][0]\n",
        "    label = classes[i]\n",
        "\n",
        "    # Real data only\n",
        "\n",
        "    V = alldat[participant][0]['V'].astype('float32')#[:, :48]\n",
        "    b, a = signal.butter(3, [50], btype='high', fs=1000)\n",
        "    V = signal.filtfilt(b, a, V, 0)\n",
        "\n",
        "    V = np.abs(V)**2\n",
        "    b, a = signal.butter(3, [10], btype='low', fs=1000)\n",
        "    V = signal.filtfilt(b, a, V, 0)\n",
        "\n",
        "    V_real = V/V.mean(0)\n",
        "    V_real = V_real[t_on : t_on + 3000]\n",
        "\n",
        "    X_real[i] = V_real\n",
        "    y_real[i] = label"
      ]
    },
    {
      "cell_type": "code",
      "source": [
        "from scipy import signal\n",
        "import numpy as np\n",
        "\n",
        "# Find resting state intervals and add to tongue/hand interval list.\n",
        "intervals = [(on, off) for on, off in zip(alldat[participant][1]['t_on'], alldat[participant][1]['t_off'])]\n",
        "resting = [(intervals[i][1], intervals[i+1][0]) for i in range(0, len(intervals)-1)]\n",
        "intervals = np.append(np.array(intervals), np.array(resting), axis = 0)\n",
        "\n",
        "classes = np.append(np.array([0 if i < 12 else 1 for i in alldat[participant][1]['stim_id']]), np.repeat(2, len(resting)))\n",
        "\n",
        "channels = len(alldat[participant][1]['locs'])\n",
        "stims = len(intervals)\n",
        "\n",
        "X_imag = np.empty((stims, 3000, channels))\n",
        "y_imag = np.empty((stims))\n",
        "\n",
        "for i in range(stims):\n",
        "\n",
        "    t_on = intervals[i][0]\n",
        "    label = classes[i]\n",
        "\n",
        "    # Real data only\n",
        "\n",
        "    V = alldat[participant][1]['V'].astype('float32')#[:, :48]\n",
        "    b, a = signal.butter(3, [50], btype='high', fs=1000)\n",
        "    V = signal.filtfilt(b, a, V, 0)\n",
        "\n",
        "    V = np.abs(V)**2\n",
        "    b, a = signal.butter(3, [10], btype='low', fs=1000)\n",
        "    V = signal.filtfilt(b, a, V, 0)\n",
        "\n",
        "    V_real = V/V.mean(0)\n",
        "    V_real = V_real[t_on : t_on + 3000]\n",
        "\n",
        "    X_imag[i] = V_real\n",
        "    y_imag[i] = label"
      ],
      "metadata": {
        "id": "7R53hBmsIROz"
      },
      "execution_count": 9,
      "outputs": []
    },
    {
      "cell_type": "code",
      "source": [
        "concat = np.squeeze(np.concatenate((X_real, X_imag), axis=0))\n",
        "labels = np.concatenate((np.zeros((X_real.shape[0])), np.ones((X_imag.shape[0]))), axis = 0)\n",
        "idx = np.random.permutation(labels.shape[0])\n",
        "X, y = concat[idx], labels[idx]"
      ],
      "metadata": {
        "id": "HXy3r4OyTIs7"
      },
      "execution_count": 10,
      "outputs": []
    },
    {
      "cell_type": "code",
      "execution_count": 11,
      "metadata": {
        "id": "HrtN5sR_0LXi"
      },
      "outputs": [],
      "source": [
        "from sklearn.model_selection import train_test_split\n",
        "\n",
        "X_train, X_test, y_train, y_test = train_test_split(X, y, test_size=0.25, random_state=0)"
      ]
    },
    {
      "cell_type": "code",
      "execution_count": 12,
      "metadata": {
        "id": "Rj5h3wXPEmBx"
      },
      "outputs": [],
      "source": [
        "from sklearn.model_selection import train_test_split\n",
        "from tensorflow.keras.utils import to_categorical"
      ]
    },
    {
      "cell_type": "code",
      "execution_count": 13,
      "metadata": {
        "id": "eHs5KWJC6pCu"
      },
      "outputs": [],
      "source": [
        "from keras.layers import Conv2D, MaxPooling2D, Flatten, Dense, Dropout"
      ]
    },
    {
      "cell_type": "code",
      "execution_count": 14,
      "metadata": {
        "id": "cZRNe3G_1eGI"
      },
      "outputs": [],
      "source": [
        "X_train = np.expand_dims(X_train, axis=3)"
      ]
    },
    {
      "cell_type": "code",
      "execution_count": 15,
      "metadata": {
        "id": "VEUw2C3Z1ovN"
      },
      "outputs": [],
      "source": [
        "X_test = np.expand_dims(X_test, axis=3)"
      ]
    },
    {
      "cell_type": "code",
      "execution_count": 16,
      "metadata": {
        "id": "mM9EqXJJ2y4K"
      },
      "outputs": [],
      "source": [
        "y_train = to_categorical(y_train)"
      ]
    },
    {
      "cell_type": "code",
      "execution_count": 17,
      "metadata": {
        "id": "0fB9V1rO2oQV"
      },
      "outputs": [],
      "source": [
        "y_test = to_categorical(y_test)"
      ]
    },
    {
      "cell_type": "markdown",
      "metadata": {
        "id": "PUGKbGqc5nBT"
      },
      "source": [
        "# Keras Tuner CNN / CNN-LSTM Attempts"
      ]
    },
    {
      "cell_type": "code",
      "execution_count": null,
      "metadata": {
        "id": "0x43tw9wcdYf",
        "colab": {
          "base_uri": "https://localhost:8080/"
        },
        "outputId": "31fe521e-5c1e-4ad1-b04b-bdd0fdb2bbdb"
      },
      "outputs": [
        {
          "output_type": "stream",
          "name": "stdout",
          "text": [
            "Requirement already satisfied: keras-tuner in /usr/local/lib/python3.10/dist-packages (1.3.5)\n",
            "Requirement already satisfied: packaging in /usr/local/lib/python3.10/dist-packages (from keras-tuner) (23.1)\n",
            "Requirement already satisfied: requests in /usr/local/lib/python3.10/dist-packages (from keras-tuner) (2.31.0)\n",
            "Requirement already satisfied: kt-legacy in /usr/local/lib/python3.10/dist-packages (from keras-tuner) (1.0.5)\n",
            "Requirement already satisfied: charset-normalizer<4,>=2 in /usr/local/lib/python3.10/dist-packages (from requests->keras-tuner) (3.2.0)\n",
            "Requirement already satisfied: idna<4,>=2.5 in /usr/local/lib/python3.10/dist-packages (from requests->keras-tuner) (3.4)\n",
            "Requirement already satisfied: urllib3<3,>=1.21.1 in /usr/local/lib/python3.10/dist-packages (from requests->keras-tuner) (2.0.4)\n",
            "Requirement already satisfied: certifi>=2017.4.17 in /usr/local/lib/python3.10/dist-packages (from requests->keras-tuner) (2023.7.22)\n"
          ]
        }
      ],
      "source": [
        "!pip install keras-tuner --upgrade"
      ]
    },
    {
      "cell_type": "code",
      "source": [
        "# Limiting to the smallest number of channels\n",
        "channels = 46"
      ],
      "metadata": {
        "id": "-2avLaV5xvsR"
      },
      "execution_count": null,
      "outputs": []
    },
    {
      "cell_type": "markdown",
      "source": [
        "### CNN LSTM Tuning"
      ],
      "metadata": {
        "id": "PV1mtJPkyUYK"
      }
    },
    {
      "cell_type": "code",
      "execution_count": null,
      "metadata": {
        "id": "tMcR4Rb2vqMl"
      },
      "outputs": [],
      "source": [
        "from tensorflow.keras.layers import LSTM, TimeDistributed, Dropout\n",
        "from tensorflow.keras.models import Sequential\n",
        "from tensorflow.keras.layers import Conv2D, MaxPooling2D, Flatten, Dense\n",
        "from tensorflow.keras.optimizers import Adam\n",
        "from kerastuner.engine.hyperparameters import HyperParameters\n",
        "\n",
        "def build_model(hp: HyperParameters):\n",
        "    model = Sequential()\n",
        "\n",
        "    # CNN layers\n",
        "    model.add(Conv2D(filters=hp.Int('conv_1_filter', min_value=32, max_value=128, step=16),\n",
        "                     kernel_size=hp.Choice('conv_1_kernel', values=[3, 5]),\n",
        "                     activation='relu',\n",
        "                     input_shape=(3000, channels, 1)))\n",
        "    model.add(MaxPooling2D(pool_size=(2, 2)))\n",
        "    model.add(Conv2D(filters=hp.Int('conv_2_filter', min_value=16, max_value=64, step=16),\n",
        "                     kernel_size=hp.Choice('conv_2_kernel', values=[3, 5]),\n",
        "                     activation='relu'))\n",
        "    model.add(MaxPooling2D(pool_size=(2, 2)))\n",
        "\n",
        "    # LSTM layers\n",
        "    model.add(TimeDistributed(Flatten()))\n",
        "    model.add(LSTM(units=hp.Int('lstm_1_units', min_value=50, max_value=200, step=50),\n",
        "                   activation='tanh', return_sequences=True))  # Return sequences for the next LSTM layer\n",
        "    model.add(Dropout(hp.Float('lstm_1_dropout', min_value=0.0, max_value=0.5, step=0.1)))\n",
        "    model.add(LSTM(units=hp.Int('lstm_2_units', min_value=50, max_value=200, step=50),\n",
        "                   activation='tanh'))\n",
        "    model.add(Dropout(hp.Float('lstm_2_dropout', min_value=0.0, max_value=0.5, step=0.1)))\n",
        "\n",
        "    # Dense layers\n",
        "    model.add(Flatten())\n",
        "    model.add(Dense(units=hp.Int('dense_1_units', min_value=16, max_value=128, step=16),\n",
        "                    activation='relu'))\n",
        "    model.add(Dense(units=hp.Int('dense_2_units', min_value=8, max_value=64, step=8),\n",
        "                    activation='relu'))\n",
        "    model.add(Dense(2, activation='softmax'))  # 2 classes: real or imaginary\n",
        "\n",
        "    model.compile(optimizer=Adam(learning_rate=hp.Float('learning_rate', min_value=1e-5, max_value=1e-3, sampling='LOG')),\n",
        "                  loss='categorical_crossentropy',\n",
        "                  metrics=['accuracy'])\n",
        "\n",
        "    return model\n"
      ]
    },
    {
      "cell_type": "markdown",
      "source": [
        "### CNN Tuning"
      ],
      "metadata": {
        "id": "UgZn3IP_yarz"
      }
    },
    {
      "cell_type": "code",
      "source": [
        "from tensorflow.keras.layers import LSTM, TimeDistributed, Dropout\n",
        "from tensorflow.keras.models import Sequential\n",
        "from tensorflow.keras.layers import Conv2D, MaxPooling2D, Flatten, Dense\n",
        "from tensorflow.keras.optimizers import Adam\n",
        "from kerastuner.engine.hyperparameters import HyperParameters\n",
        "\n",
        "def build_model(hp: HyperParameters):\n",
        "    model = Sequential()\n",
        "\n",
        "    # CNN layers\n",
        "    model.add(Conv2D(filters=hp.Int('conv_1_filter', min_value=32, max_value=128, step=16),\n",
        "                     kernel_size=hp.Choice('conv_1_kernel', values=[3, 5]),\n",
        "                     activation='relu',\n",
        "                     input_shape=(3000, channels, 1)))\n",
        "    model.add(MaxPooling2D(pool_size=(2, 2)))\n",
        "    model.add(Conv2D(filters=hp.Int('conv_2_filter', min_value=16, max_value=64, step=16),\n",
        "                     kernel_size=hp.Choice('conv_2_kernel', values=[3, 5]),\n",
        "                     activation='relu'))\n",
        "    model.add(MaxPooling2D(pool_size=(2, 2)))\n",
        "\n",
        "    # LSTM layers\n",
        "    # model.add(TimeDistributed(Flatten()))\n",
        "    # model.add(LSTM(units=hp.Int('lstm_1_units', min_value=50, max_value=200, step=50),\n",
        "    #                activation='tanh', return_sequences=True))  # Return sequences for the next LSTM layer\n",
        "    # model.add(Dropout(hp.Float('lstm_1_dropout', min_value=0.0, max_value=0.5, step=0.1)))\n",
        "    # model.add(LSTM(units=hp.Int('lstm_2_units', min_value=50, max_value=200, step=50),\n",
        "    #                activation='tanh'))\n",
        "    # model.add(Dropout(hp.Float('lstm_2_dropout', min_value=0.0, max_value=0.5, step=0.1)))\n",
        "\n",
        "    # Dense layers\n",
        "    model.add(Flatten())\n",
        "    model.add(Dense(units=hp.Int('dense_1_units', min_value=16, max_value=128, step=16),\n",
        "                    activation='relu'))\n",
        "    model.add(Dense(units=hp.Int('dense_2_units', min_value=8, max_value=64, step=8),\n",
        "                    activation='relu'))\n",
        "    model.add(Dense(2, activation='softmax'))  # 2 classes: real or imaginary\n",
        "\n",
        "    model.compile(optimizer=Adam(learning_rate=hp.Float('learning_rate', min_value=1e-5, max_value=1e-3, sampling='LOG')),\n",
        "                  loss='categorical_crossentropy',\n",
        "                  metrics=['accuracy'])\n",
        "\n",
        "    return model\n"
      ],
      "metadata": {
        "id": "SyHxGmmsyc06"
      },
      "execution_count": null,
      "outputs": []
    },
    {
      "cell_type": "code",
      "source": [
        "from kerastuner import RandomSearch\n",
        "\n",
        "tunerr = RandomSearch(\n",
        "    build_model,\n",
        "    objective='val_accuracy',\n",
        "    max_trials=25, # Number of different hyperparameter combinations to try\n",
        "    directory='output',\n",
        "    project_name='Brain_Activity_Classification'\n",
        ")"
      ],
      "metadata": {
        "id": "-20ijSUa6FOv"
      },
      "execution_count": null,
      "outputs": []
    },
    {
      "cell_type": "code",
      "execution_count": null,
      "metadata": {
        "id": "nNznuwP3aw6o",
        "colab": {
          "base_uri": "https://localhost:8080/"
        },
        "outputId": "9115786b-fd84-4dac-8ca7-8f7cac65f7d0"
      },
      "outputs": [
        {
          "output_type": "stream",
          "name": "stdout",
          "text": [
            "Trial 5 Complete [00h 00m 43s]\n",
            "val_accuracy: 0.800000011920929\n",
            "\n",
            "Best val_accuracy So Far: 0.8500000238418579\n",
            "Total elapsed time: 00h 03m 55s\n"
          ]
        }
      ],
      "source": [
        "from sklearn.utils.class_weight import compute_class_weight\n",
        "\n",
        "y_train_integers = np.argmax(y_train, axis=1)\n",
        "class_weights = compute_class_weight('balanced', classes=np.unique(y_train_integers), y=y_train_integers)\n",
        "class_weights_dict = {i: weight for i, weight in enumerate(class_weights)}\n",
        "\n",
        "# Pass class weights to the search method\n",
        "tunerr.search(X_train, y_train, batch_size=25, epochs=50, validation_data=(X_test, y_test), class_weight=class_weights_dict)\n",
        "\n",
        "best_model = tunerr.get_best_models(num_models=1)[0]\n",
        "best_hyperparameters = tunerr.get_best_hyperparameters(num_trials=1)[0]"
      ]
    },
    {
      "cell_type": "code",
      "source": [
        "loss, accuracy = best_model.evaluate(X_test, y_test, verbose=1)\n",
        "\n",
        "print(f\"Test loss: {loss}\")\n",
        "print(f\"Test accuracy: {accuracy}\")"
      ],
      "metadata": {
        "id": "sAl3q3PCxzIg",
        "colab": {
          "base_uri": "https://localhost:8080/"
        },
        "outputId": "9b79e748-3749-43d6-cf80-26dd70bfda35"
      },
      "execution_count": null,
      "outputs": [
        {
          "output_type": "stream",
          "name": "stdout",
          "text": [
            "2/2 [==============================] - 1s 271ms/step - loss: 0.4828 - accuracy: 0.8500\n",
            "Test loss: 0.4827667772769928\n",
            "Test accuracy: 0.8500000238418579\n"
          ]
        }
      ]
    },
    {
      "cell_type": "markdown",
      "source": [
        "#### Saving CNN LSTM"
      ],
      "metadata": {
        "id": "iuKJLBdKywKg"
      }
    },
    {
      "cell_type": "code",
      "source": [
        "best_model.save(f'cnn-lstm-ri-p{participant}.keras')"
      ],
      "metadata": {
        "id": "eWz_OTVayxf6"
      },
      "execution_count": null,
      "outputs": []
    },
    {
      "cell_type": "markdown",
      "source": [
        "#### Saving CNN"
      ],
      "metadata": {
        "id": "q7DY6IcuyzUh"
      }
    },
    {
      "cell_type": "code",
      "execution_count": null,
      "metadata": {
        "id": "-vHqyluSr0xI"
      },
      "outputs": [],
      "source": [
        "best_model.save(f'cnn-ri-p{participant}.keras')"
      ]
    },
    {
      "cell_type": "markdown",
      "source": [
        "# LSTM CNN BEST VALUES"
      ],
      "metadata": {
        "id": "BEzpIJEj0VdR"
      }
    },
    {
      "cell_type": "code",
      "source": [
        "from tensorflow.keras.models import load_model\n",
        "model = load_model('cnn-lstm-ri-p2.keras')\n"
      ],
      "metadata": {
        "id": "r1EzmztJPABm"
      },
      "execution_count": 18,
      "outputs": []
    },
    {
      "cell_type": "code",
      "source": [
        "# model = create_model()\n",
        "# model.load_weights('cnn_lstm-ri.h5')\n",
        "\n",
        "loss, accuracy = model.evaluate(X_test, y_test, verbose=1)\n",
        "\n",
        "print(f\"Test loss: {loss}\")\n",
        "print(f\"Test accuracy: {accuracy}\")\n"
      ],
      "metadata": {
        "colab": {
          "base_uri": "https://localhost:8080/"
        },
        "id": "sKNmXNwmBsQ-",
        "outputId": "6dadd943-1df9-46f9-9c9d-fee3c84e1ba4"
      },
      "execution_count": 19,
      "outputs": [
        {
          "output_type": "stream",
          "name": "stdout",
          "text": [
            "2/2 [==============================] - 11s 326ms/step - loss: 0.4118 - accuracy: 0.9000\n",
            "Test loss: 0.41180092096328735\n",
            "Test accuracy: 0.8999999761581421\n"
          ]
        }
      ]
    },
    {
      "cell_type": "markdown",
      "metadata": {
        "id": "FtlM61aQrqMb"
      },
      "source": [
        "# CNN BEST VALUES"
      ]
    },
    {
      "cell_type": "code",
      "source": [
        "from tensorflow.keras.models import load_model\n",
        "model = load_model('cnn-ri-p2.keras')\n"
      ],
      "metadata": {
        "id": "4r1Nv_-U216p"
      },
      "execution_count": 20,
      "outputs": []
    },
    {
      "cell_type": "code",
      "source": [
        "loss, accuracy = model.evaluate(X_test, y_test, verbose=1)\n",
        "\n",
        "print(f\"Test loss: {loss}\")\n",
        "print(f\"Test accuracy: {accuracy}\")\n"
      ],
      "metadata": {
        "colab": {
          "base_uri": "https://localhost:8080/"
        },
        "outputId": "c5c535c7-6e57-433d-ef3a-fb4511249695",
        "id": "tpFQXFP_216r"
      },
      "execution_count": 21,
      "outputs": [
        {
          "output_type": "stream",
          "name": "stdout",
          "text": [
            "2/2 [==============================] - 1s 327ms/step - loss: 0.5352 - accuracy: 0.9000\n",
            "Test loss: 0.5352226495742798\n",
            "Test accuracy: 0.8999999761581421\n"
          ]
        }
      ]
    },
    {
      "cell_type": "markdown",
      "metadata": {
        "id": "SB93Ge748VQs"
      },
      "source": [
        "# Transfer Learning"
      ]
    },
    {
      "cell_type": "markdown",
      "source": [
        "### CNN LSTM"
      ],
      "metadata": {
        "id": "MAqOx_HC3gMz"
      }
    },
    {
      "cell_type": "code",
      "execution_count": 22,
      "metadata": {
        "id": "sEG-H21d3ip4"
      },
      "outputs": [],
      "source": [
        "from tensorflow.keras.models import load_model\n",
        "model = load_model('cnn-lstm-ri-p4.keras')"
      ]
    },
    {
      "cell_type": "code",
      "source": [
        "for layer in list(model.layers)[0:10]:\n",
        "  layer.trainable = False"
      ],
      "metadata": {
        "id": "unmuI_kl3iqA"
      },
      "execution_count": 24,
      "outputs": []
    },
    {
      "cell_type": "code",
      "source": [
        "for layer in list(model.layers):\n",
        "  print(layer.name, layer.trainable)"
      ],
      "metadata": {
        "colab": {
          "base_uri": "https://localhost:8080/"
        },
        "outputId": "76f924db-3b4a-49eb-d5f4-984758044946",
        "id": "nsVoseZQ3iqA"
      },
      "execution_count": 25,
      "outputs": [
        {
          "output_type": "stream",
          "name": "stdout",
          "text": [
            "conv2d False\n",
            "max_pooling2d False\n",
            "conv2d_1 False\n",
            "max_pooling2d_1 False\n",
            "time_distributed False\n",
            "lstm False\n",
            "dropout False\n",
            "lstm_1 False\n",
            "dropout_1 False\n",
            "flatten_1 False\n",
            "dense True\n",
            "dense_1 True\n",
            "dense_2 True\n"
          ]
        }
      ]
    },
    {
      "cell_type": "code",
      "source": [
        "from sklearn.utils.class_weight import compute_class_weight\n",
        "\n",
        "\n",
        "y_train_integers = np.argmax(y_train, axis=1)\n",
        "class_weights = compute_class_weight('balanced', classes=np.unique(y_train_integers), y=y_train_integers)\n",
        "class_weights_dict = {i: weight for i, weight in enumerate(class_weights)}\n",
        "\n",
        "# Pass class weights to the search method\n",
        "history = model.fit(X_train, y_train, batch_size=25, epochs=50, validation_data=(X_test, y_test), class_weight=class_weights_dict)\n"
      ],
      "metadata": {
        "colab": {
          "base_uri": "https://localhost:8080/"
        },
        "outputId": "b668d8f6-b863-42de-cf6e-aa02ea2d2940",
        "id": "NYsn03nD3iqA"
      },
      "execution_count": 26,
      "outputs": [
        {
          "output_type": "stream",
          "name": "stdout",
          "text": [
            "Epoch 1/50\n",
            "8/8 [==============================] - 10s 281ms/step - loss: 0.6945 - accuracy: 0.4775 - val_loss: 0.6919 - val_accuracy: 0.5000\n",
            "Epoch 2/50\n",
            "8/8 [==============================] - 1s 127ms/step - loss: 0.6936 - accuracy: 0.5618 - val_loss: 0.6965 - val_accuracy: 0.4333\n",
            "Epoch 3/50\n",
            "8/8 [==============================] - 1s 132ms/step - loss: 0.6925 - accuracy: 0.5225 - val_loss: 0.6959 - val_accuracy: 0.4333\n",
            "Epoch 4/50\n",
            "8/8 [==============================] - 1s 124ms/step - loss: 0.6925 - accuracy: 0.5337 - val_loss: 0.6937 - val_accuracy: 0.4333\n",
            "Epoch 5/50\n",
            "8/8 [==============================] - 1s 115ms/step - loss: 0.6929 - accuracy: 0.5169 - val_loss: 0.6945 - val_accuracy: 0.4333\n",
            "Epoch 6/50\n",
            "8/8 [==============================] - 1s 116ms/step - loss: 0.6917 - accuracy: 0.5506 - val_loss: 0.6944 - val_accuracy: 0.4333\n",
            "Epoch 7/50\n",
            "8/8 [==============================] - 1s 113ms/step - loss: 0.6909 - accuracy: 0.5337 - val_loss: 0.6961 - val_accuracy: 0.4333\n",
            "Epoch 8/50\n",
            "8/8 [==============================] - 1s 116ms/step - loss: 0.6909 - accuracy: 0.5337 - val_loss: 0.7034 - val_accuracy: 0.4333\n",
            "Epoch 9/50\n",
            "8/8 [==============================] - 1s 118ms/step - loss: 0.6892 - accuracy: 0.5281 - val_loss: 0.7022 - val_accuracy: 0.4333\n",
            "Epoch 10/50\n",
            "8/8 [==============================] - 1s 117ms/step - loss: 0.6841 - accuracy: 0.5843 - val_loss: 0.6948 - val_accuracy: 0.5167\n",
            "Epoch 11/50\n",
            "8/8 [==============================] - 1s 118ms/step - loss: 0.6835 - accuracy: 0.6011 - val_loss: 0.7244 - val_accuracy: 0.4333\n",
            "Epoch 12/50\n",
            "8/8 [==============================] - 1s 115ms/step - loss: 0.6961 - accuracy: 0.5225 - val_loss: 0.7095 - val_accuracy: 0.4333\n",
            "Epoch 13/50\n",
            "8/8 [==============================] - 1s 118ms/step - loss: 0.6789 - accuracy: 0.6180 - val_loss: 0.6881 - val_accuracy: 0.5333\n",
            "Epoch 14/50\n",
            "8/8 [==============================] - 1s 113ms/step - loss: 0.6864 - accuracy: 0.5506 - val_loss: 0.6883 - val_accuracy: 0.5333\n",
            "Epoch 15/50\n",
            "8/8 [==============================] - 1s 127ms/step - loss: 0.6823 - accuracy: 0.6180 - val_loss: 0.6901 - val_accuracy: 0.5667\n",
            "Epoch 16/50\n",
            "8/8 [==============================] - 1s 134ms/step - loss: 0.6749 - accuracy: 0.6910 - val_loss: 0.6999 - val_accuracy: 0.4333\n",
            "Epoch 17/50\n",
            "8/8 [==============================] - 1s 128ms/step - loss: 0.6640 - accuracy: 0.6067 - val_loss: 0.7124 - val_accuracy: 0.4667\n",
            "Epoch 18/50\n",
            "8/8 [==============================] - 1s 112ms/step - loss: 0.6566 - accuracy: 0.6348 - val_loss: 0.6999 - val_accuracy: 0.5167\n",
            "Epoch 19/50\n",
            "8/8 [==============================] - 1s 113ms/step - loss: 0.6541 - accuracy: 0.6573 - val_loss: 0.6970 - val_accuracy: 0.5167\n",
            "Epoch 20/50\n",
            "8/8 [==============================] - 1s 114ms/step - loss: 0.6323 - accuracy: 0.6629 - val_loss: 0.7251 - val_accuracy: 0.4833\n",
            "Epoch 21/50\n",
            "8/8 [==============================] - 1s 116ms/step - loss: 0.5996 - accuracy: 0.6798 - val_loss: 0.7514 - val_accuracy: 0.4833\n",
            "Epoch 22/50\n",
            "8/8 [==============================] - 1s 115ms/step - loss: 0.5841 - accuracy: 0.6742 - val_loss: 0.7990 - val_accuracy: 0.5000\n",
            "Epoch 23/50\n",
            "8/8 [==============================] - 1s 113ms/step - loss: 0.5608 - accuracy: 0.6966 - val_loss: 0.7417 - val_accuracy: 0.5000\n",
            "Epoch 24/50\n",
            "8/8 [==============================] - 1s 116ms/step - loss: 0.5284 - accuracy: 0.7303 - val_loss: 0.7431 - val_accuracy: 0.5000\n",
            "Epoch 25/50\n",
            "8/8 [==============================] - 1s 117ms/step - loss: 0.5160 - accuracy: 0.7247 - val_loss: 0.9745 - val_accuracy: 0.4833\n",
            "Epoch 26/50\n",
            "8/8 [==============================] - 1s 117ms/step - loss: 0.4792 - accuracy: 0.7809 - val_loss: 0.7207 - val_accuracy: 0.5833\n",
            "Epoch 27/50\n",
            "8/8 [==============================] - 1s 115ms/step - loss: 0.4488 - accuracy: 0.7978 - val_loss: 0.9197 - val_accuracy: 0.4667\n",
            "Epoch 28/50\n",
            "8/8 [==============================] - 1s 145ms/step - loss: 0.4048 - accuracy: 0.8034 - val_loss: 0.7865 - val_accuracy: 0.5667\n",
            "Epoch 29/50\n",
            "8/8 [==============================] - 1s 128ms/step - loss: 0.4249 - accuracy: 0.7921 - val_loss: 1.1401 - val_accuracy: 0.4500\n",
            "Epoch 30/50\n",
            "8/8 [==============================] - 1s 130ms/step - loss: 0.3710 - accuracy: 0.8539 - val_loss: 0.8492 - val_accuracy: 0.5667\n",
            "Epoch 31/50\n",
            "8/8 [==============================] - 1s 117ms/step - loss: 0.3131 - accuracy: 0.8708 - val_loss: 0.9293 - val_accuracy: 0.5500\n",
            "Epoch 32/50\n",
            "8/8 [==============================] - 1s 117ms/step - loss: 0.2970 - accuracy: 0.9101 - val_loss: 0.9499 - val_accuracy: 0.6000\n",
            "Epoch 33/50\n",
            "8/8 [==============================] - 1s 116ms/step - loss: 0.2652 - accuracy: 0.9101 - val_loss: 0.9566 - val_accuracy: 0.5667\n",
            "Epoch 34/50\n",
            "8/8 [==============================] - 1s 113ms/step - loss: 0.2509 - accuracy: 0.9213 - val_loss: 1.5109 - val_accuracy: 0.4167\n",
            "Epoch 35/50\n",
            "8/8 [==============================] - 1s 113ms/step - loss: 0.3036 - accuracy: 0.8708 - val_loss: 0.8546 - val_accuracy: 0.5667\n",
            "Epoch 36/50\n",
            "8/8 [==============================] - 1s 117ms/step - loss: 0.3731 - accuracy: 0.8483 - val_loss: 1.0491 - val_accuracy: 0.5000\n",
            "Epoch 37/50\n",
            "8/8 [==============================] - 1s 113ms/step - loss: 0.2816 - accuracy: 0.8820 - val_loss: 1.1589 - val_accuracy: 0.5167\n",
            "Epoch 38/50\n",
            "8/8 [==============================] - 1s 114ms/step - loss: 0.2265 - accuracy: 0.9438 - val_loss: 1.0209 - val_accuracy: 0.5167\n",
            "Epoch 39/50\n",
            "8/8 [==============================] - 1s 118ms/step - loss: 0.2075 - accuracy: 0.9382 - val_loss: 1.2584 - val_accuracy: 0.5000\n",
            "Epoch 40/50\n",
            "8/8 [==============================] - 1s 112ms/step - loss: 0.1867 - accuracy: 0.9494 - val_loss: 1.1021 - val_accuracy: 0.5833\n",
            "Epoch 41/50\n",
            "8/8 [==============================] - 1s 123ms/step - loss: 0.1591 - accuracy: 0.9551 - val_loss: 1.3688 - val_accuracy: 0.4833\n",
            "Epoch 42/50\n",
            "8/8 [==============================] - 1s 135ms/step - loss: 0.1473 - accuracy: 0.9607 - val_loss: 1.4240 - val_accuracy: 0.4833\n",
            "Epoch 43/50\n",
            "8/8 [==============================] - 1s 129ms/step - loss: 0.1390 - accuracy: 0.9607 - val_loss: 1.3611 - val_accuracy: 0.5167\n",
            "Epoch 44/50\n",
            "8/8 [==============================] - 1s 116ms/step - loss: 0.1251 - accuracy: 0.9607 - val_loss: 1.2829 - val_accuracy: 0.5500\n",
            "Epoch 45/50\n",
            "8/8 [==============================] - 1s 112ms/step - loss: 0.0990 - accuracy: 0.9663 - val_loss: 1.5807 - val_accuracy: 0.4833\n",
            "Epoch 46/50\n",
            "8/8 [==============================] - 1s 117ms/step - loss: 0.0856 - accuracy: 0.9775 - val_loss: 1.4791 - val_accuracy: 0.5333\n",
            "Epoch 47/50\n",
            "8/8 [==============================] - 1s 117ms/step - loss: 0.0766 - accuracy: 0.9719 - val_loss: 1.7605 - val_accuracy: 0.5000\n",
            "Epoch 48/50\n",
            "8/8 [==============================] - 1s 116ms/step - loss: 0.0566 - accuracy: 0.9831 - val_loss: 1.7278 - val_accuracy: 0.4833\n",
            "Epoch 49/50\n",
            "8/8 [==============================] - 1s 118ms/step - loss: 0.0482 - accuracy: 0.9831 - val_loss: 1.5886 - val_accuracy: 0.5167\n",
            "Epoch 50/50\n",
            "8/8 [==============================] - 1s 113ms/step - loss: 0.0482 - accuracy: 0.9831 - val_loss: 2.0029 - val_accuracy: 0.4333\n"
          ]
        }
      ]
    },
    {
      "cell_type": "code",
      "source": [
        "loss, accuracy = model.evaluate(X_test, y_test, verbose=1)\n",
        "\n",
        "print(f\"Test loss: {loss}\")\n",
        "print(f\"Test accuracy: {accuracy}\")\n"
      ],
      "metadata": {
        "colab": {
          "base_uri": "https://localhost:8080/"
        },
        "outputId": "8d0a272b-c89d-490a-ffb5-dad15c2d7f85",
        "id": "fwoe88wq3iqA"
      },
      "execution_count": 27,
      "outputs": [
        {
          "output_type": "stream",
          "name": "stdout",
          "text": [
            "2/2 [==============================] - 1s 369ms/step - loss: 2.0029 - accuracy: 0.4333\n",
            "Test loss: 2.002915620803833\n",
            "Test accuracy: 0.4333333373069763\n"
          ]
        }
      ]
    },
    {
      "cell_type": "markdown",
      "source": [
        "### CNN"
      ],
      "metadata": {
        "id": "G2xDXqlU3fVG"
      }
    },
    {
      "cell_type": "code",
      "execution_count": 28,
      "metadata": {
        "id": "skqORzvE3Egy"
      },
      "outputs": [],
      "source": [
        "from tensorflow.keras.models import load_model\n",
        "model = load_model('cnn-ri-p4.keras')"
      ]
    },
    {
      "cell_type": "code",
      "source": [
        "for layer in list(model.layers)[0:5]:\n",
        "  layer.trainable = False"
      ],
      "metadata": {
        "id": "N4Afr8zFyKRf"
      },
      "execution_count": 29,
      "outputs": []
    },
    {
      "cell_type": "code",
      "source": [
        "for layer in list(model.layers):\n",
        "  print(layer.name, layer.trainable)"
      ],
      "metadata": {
        "colab": {
          "base_uri": "https://localhost:8080/"
        },
        "id": "jR5wWl4WAsSS",
        "outputId": "84e77b73-d175-4111-8782-e16673a7a3c8"
      },
      "execution_count": 30,
      "outputs": [
        {
          "output_type": "stream",
          "name": "stdout",
          "text": [
            "conv2d False\n",
            "max_pooling2d False\n",
            "conv2d_1 False\n",
            "max_pooling2d_1 False\n",
            "flatten False\n",
            "dense True\n",
            "dense_1 True\n",
            "dense_2 True\n"
          ]
        }
      ]
    },
    {
      "cell_type": "code",
      "source": [
        "from sklearn.utils.class_weight import compute_class_weight\n",
        "\n",
        "\n",
        "y_train_integers = np.argmax(y_train, axis=1)\n",
        "class_weights = compute_class_weight('balanced', classes=np.unique(y_train_integers), y=y_train_integers)\n",
        "class_weights_dict = {i: weight for i, weight in enumerate(class_weights)}\n",
        "\n",
        "# Pass class weights to the search method\n",
        "history = model.fit(X_train, y_train, batch_size=25, epochs=50, validation_data=(X_test, y_test), class_weight=class_weights_dict)\n"
      ],
      "metadata": {
        "colab": {
          "base_uri": "https://localhost:8080/"
        },
        "id": "_V9QRSeUlzqn",
        "outputId": "f25a9103-c08c-410d-d384-b7e088788813"
      },
      "execution_count": 31,
      "outputs": [
        {
          "output_type": "stream",
          "name": "stdout",
          "text": [
            "Epoch 1/50\n",
            "8/8 [==============================] - 4s 175ms/step - loss: 2.7319 - accuracy: 0.5056 - val_loss: 2.7597 - val_accuracy: 0.4500\n",
            "Epoch 2/50\n",
            "8/8 [==============================] - 1s 68ms/step - loss: 1.1454 - accuracy: 0.5955 - val_loss: 0.9727 - val_accuracy: 0.5500\n",
            "Epoch 3/50\n",
            "8/8 [==============================] - 1s 66ms/step - loss: 0.6825 - accuracy: 0.6011 - val_loss: 0.8250 - val_accuracy: 0.4333\n",
            "Epoch 4/50\n",
            "8/8 [==============================] - 1s 66ms/step - loss: 0.5881 - accuracy: 0.6910 - val_loss: 0.7629 - val_accuracy: 0.5833\n",
            "Epoch 5/50\n",
            "8/8 [==============================] - 1s 65ms/step - loss: 0.4856 - accuracy: 0.8258 - val_loss: 0.8022 - val_accuracy: 0.5500\n",
            "Epoch 6/50\n",
            "8/8 [==============================] - 1s 65ms/step - loss: 0.3825 - accuracy: 0.8820 - val_loss: 0.8450 - val_accuracy: 0.5000\n",
            "Epoch 7/50\n",
            "8/8 [==============================] - 1s 67ms/step - loss: 0.2583 - accuracy: 0.9831 - val_loss: 0.9431 - val_accuracy: 0.4667\n",
            "Epoch 8/50\n",
            "8/8 [==============================] - 1s 65ms/step - loss: 0.1744 - accuracy: 0.9888 - val_loss: 0.9847 - val_accuracy: 0.4667\n",
            "Epoch 9/50\n",
            "8/8 [==============================] - 1s 73ms/step - loss: 0.1098 - accuracy: 1.0000 - val_loss: 1.0499 - val_accuracy: 0.4500\n",
            "Epoch 10/50\n",
            "8/8 [==============================] - 1s 73ms/step - loss: 0.0810 - accuracy: 1.0000 - val_loss: 1.0793 - val_accuracy: 0.5333\n",
            "Epoch 11/50\n",
            "8/8 [==============================] - 1s 76ms/step - loss: 0.0528 - accuracy: 1.0000 - val_loss: 1.1797 - val_accuracy: 0.4000\n",
            "Epoch 12/50\n",
            "8/8 [==============================] - 1s 72ms/step - loss: 0.0383 - accuracy: 1.0000 - val_loss: 1.1954 - val_accuracy: 0.4167\n",
            "Epoch 13/50\n",
            "8/8 [==============================] - 1s 66ms/step - loss: 0.0268 - accuracy: 1.0000 - val_loss: 1.2473 - val_accuracy: 0.4167\n",
            "Epoch 14/50\n",
            "8/8 [==============================] - 1s 65ms/step - loss: 0.0191 - accuracy: 1.0000 - val_loss: 1.2711 - val_accuracy: 0.4167\n",
            "Epoch 15/50\n",
            "8/8 [==============================] - 1s 67ms/step - loss: 0.0151 - accuracy: 1.0000 - val_loss: 1.3482 - val_accuracy: 0.4000\n",
            "Epoch 16/50\n",
            "8/8 [==============================] - 1s 67ms/step - loss: 0.0126 - accuracy: 1.0000 - val_loss: 1.3217 - val_accuracy: 0.5333\n",
            "Epoch 17/50\n",
            "8/8 [==============================] - 1s 65ms/step - loss: 0.0114 - accuracy: 1.0000 - val_loss: 1.4190 - val_accuracy: 0.4000\n",
            "Epoch 18/50\n",
            "8/8 [==============================] - 1s 66ms/step - loss: 0.0085 - accuracy: 1.0000 - val_loss: 1.3884 - val_accuracy: 0.4833\n",
            "Epoch 19/50\n",
            "8/8 [==============================] - 1s 66ms/step - loss: 0.0074 - accuracy: 1.0000 - val_loss: 1.4489 - val_accuracy: 0.4167\n",
            "Epoch 20/50\n",
            "8/8 [==============================] - 1s 65ms/step - loss: 0.0062 - accuracy: 1.0000 - val_loss: 1.4593 - val_accuracy: 0.4500\n",
            "Epoch 21/50\n",
            "8/8 [==============================] - 1s 67ms/step - loss: 0.0054 - accuracy: 1.0000 - val_loss: 1.4905 - val_accuracy: 0.4500\n",
            "Epoch 22/50\n",
            "8/8 [==============================] - 1s 68ms/step - loss: 0.0047 - accuracy: 1.0000 - val_loss: 1.5083 - val_accuracy: 0.4500\n",
            "Epoch 23/50\n",
            "8/8 [==============================] - 1s 66ms/step - loss: 0.0042 - accuracy: 1.0000 - val_loss: 1.5401 - val_accuracy: 0.4500\n",
            "Epoch 24/50\n",
            "8/8 [==============================] - 1s 67ms/step - loss: 0.0038 - accuracy: 1.0000 - val_loss: 1.5549 - val_accuracy: 0.4500\n",
            "Epoch 25/50\n",
            "8/8 [==============================] - 1s 67ms/step - loss: 0.0034 - accuracy: 1.0000 - val_loss: 1.5725 - val_accuracy: 0.4667\n",
            "Epoch 26/50\n",
            "8/8 [==============================] - 1s 67ms/step - loss: 0.0031 - accuracy: 1.0000 - val_loss: 1.6026 - val_accuracy: 0.4333\n",
            "Epoch 27/50\n",
            "8/8 [==============================] - 1s 66ms/step - loss: 0.0028 - accuracy: 1.0000 - val_loss: 1.6041 - val_accuracy: 0.4667\n",
            "Epoch 28/50\n",
            "8/8 [==============================] - 1s 67ms/step - loss: 0.0026 - accuracy: 1.0000 - val_loss: 1.6405 - val_accuracy: 0.4167\n",
            "Epoch 29/50\n",
            "8/8 [==============================] - 1s 66ms/step - loss: 0.0024 - accuracy: 1.0000 - val_loss: 1.6359 - val_accuracy: 0.4667\n",
            "Epoch 30/50\n",
            "8/8 [==============================] - 1s 66ms/step - loss: 0.0022 - accuracy: 1.0000 - val_loss: 1.6459 - val_accuracy: 0.4667\n",
            "Epoch 31/50\n",
            "8/8 [==============================] - 1s 67ms/step - loss: 0.0020 - accuracy: 1.0000 - val_loss: 1.6842 - val_accuracy: 0.4167\n",
            "Epoch 32/50\n",
            "8/8 [==============================] - 1s 83ms/step - loss: 0.0019 - accuracy: 1.0000 - val_loss: 1.6852 - val_accuracy: 0.4500\n",
            "Epoch 33/50\n",
            "8/8 [==============================] - 1s 72ms/step - loss: 0.0017 - accuracy: 1.0000 - val_loss: 1.7165 - val_accuracy: 0.4000\n",
            "Epoch 34/50\n",
            "8/8 [==============================] - 1s 85ms/step - loss: 0.0017 - accuracy: 1.0000 - val_loss: 1.6995 - val_accuracy: 0.4500\n",
            "Epoch 35/50\n",
            "8/8 [==============================] - 1s 70ms/step - loss: 0.0015 - accuracy: 1.0000 - val_loss: 1.7238 - val_accuracy: 0.4167\n",
            "Epoch 36/50\n",
            "8/8 [==============================] - 1s 65ms/step - loss: 0.0015 - accuracy: 1.0000 - val_loss: 1.7339 - val_accuracy: 0.4167\n",
            "Epoch 37/50\n",
            "8/8 [==============================] - 1s 67ms/step - loss: 0.0013 - accuracy: 1.0000 - val_loss: 1.7337 - val_accuracy: 0.4500\n",
            "Epoch 38/50\n",
            "8/8 [==============================] - 1s 65ms/step - loss: 0.0012 - accuracy: 1.0000 - val_loss: 1.7631 - val_accuracy: 0.4167\n",
            "Epoch 39/50\n",
            "8/8 [==============================] - 1s 65ms/step - loss: 0.0012 - accuracy: 1.0000 - val_loss: 1.7633 - val_accuracy: 0.4333\n",
            "Epoch 40/50\n",
            "8/8 [==============================] - 1s 66ms/step - loss: 0.0011 - accuracy: 1.0000 - val_loss: 1.7922 - val_accuracy: 0.4167\n",
            "Epoch 41/50\n",
            "8/8 [==============================] - 1s 64ms/step - loss: 0.0011 - accuracy: 1.0000 - val_loss: 1.7851 - val_accuracy: 0.4333\n",
            "Epoch 42/50\n",
            "8/8 [==============================] - 1s 67ms/step - loss: 0.0010 - accuracy: 1.0000 - val_loss: 1.7968 - val_accuracy: 0.4167\n",
            "Epoch 43/50\n",
            "8/8 [==============================] - 1s 66ms/step - loss: 9.5207e-04 - accuracy: 1.0000 - val_loss: 1.8122 - val_accuracy: 0.4167\n",
            "Epoch 44/50\n",
            "8/8 [==============================] - 1s 66ms/step - loss: 8.9655e-04 - accuracy: 1.0000 - val_loss: 1.8103 - val_accuracy: 0.4333\n",
            "Epoch 45/50\n",
            "8/8 [==============================] - 1s 67ms/step - loss: 8.5211e-04 - accuracy: 1.0000 - val_loss: 1.8343 - val_accuracy: 0.4167\n",
            "Epoch 46/50\n",
            "8/8 [==============================] - 1s 66ms/step - loss: 8.1254e-04 - accuracy: 1.0000 - val_loss: 1.8343 - val_accuracy: 0.4167\n",
            "Epoch 47/50\n",
            "8/8 [==============================] - 1s 67ms/step - loss: 7.7609e-04 - accuracy: 1.0000 - val_loss: 1.8347 - val_accuracy: 0.4333\n",
            "Epoch 48/50\n",
            "8/8 [==============================] - 1s 66ms/step - loss: 7.6922e-04 - accuracy: 1.0000 - val_loss: 1.8456 - val_accuracy: 0.4333\n",
            "Epoch 49/50\n",
            "8/8 [==============================] - 1s 65ms/step - loss: 7.2138e-04 - accuracy: 1.0000 - val_loss: 1.8607 - val_accuracy: 0.4167\n",
            "Epoch 50/50\n",
            "8/8 [==============================] - 1s 64ms/step - loss: 6.8463e-04 - accuracy: 1.0000 - val_loss: 1.8780 - val_accuracy: 0.4167\n"
          ]
        }
      ]
    },
    {
      "cell_type": "code",
      "source": [
        "loss, accuracy = model.evaluate(X_test, y_test, verbose=1)\n",
        "\n",
        "print(f\"Test loss: {loss}\")\n",
        "print(f\"Test accuracy: {accuracy}\")\n"
      ],
      "metadata": {
        "colab": {
          "base_uri": "https://localhost:8080/"
        },
        "id": "qi3ZYb0XtBEX",
        "outputId": "6d331766-0bbb-41eb-fb93-b265f359144f"
      },
      "execution_count": 32,
      "outputs": [
        {
          "output_type": "stream",
          "name": "stdout",
          "text": [
            "2/2 [==============================] - 1s 396ms/step - loss: 1.8780 - accuracy: 0.4167\n",
            "Test loss: 1.8779959678649902\n",
            "Test accuracy: 0.4166666567325592\n"
          ]
        }
      ]
    }
  ],
  "metadata": {
    "accelerator": "GPU",
    "colab": {
      "provenance": [],
      "gpuType": "V100",
      "include_colab_link": true
    },
    "kernelspec": {
      "display_name": "Python 3",
      "name": "python3"
    },
    "language_info": {
      "name": "python"
    }
  },
  "nbformat": 4,
  "nbformat_minor": 0
}