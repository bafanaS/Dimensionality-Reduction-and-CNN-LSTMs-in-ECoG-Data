{
  "nbformat": 4,
  "nbformat_minor": 0,
  "metadata": {
    "colab": {
      "provenance": [],
      "collapsed_sections": [
        "GGahBysP7Dg1"
      ],
      "include_colab_link": true
    },
    "kernelspec": {
      "name": "python3",
      "display_name": "Python 3"
    },
    "language_info": {
      "name": "python"
    }
  },
  "cells": [
    {
      "cell_type": "markdown",
      "metadata": {
        "id": "view-in-github",
        "colab_type": "text"
      },
      "source": [
        "<a href=\"https://colab.research.google.com/github/bafanaS/dim-reduction-with-cnn-lstm/blob/main/Dimensionality_Reduction_4_Classes.ipynb\" target=\"_parent\"><img src=\"https://colab.research.google.com/assets/colab-badge.svg\" alt=\"Open In Colab\"/></a>"
      ]
    },
    {
      "cell_type": "markdown",
      "source": [
        "# Data Cleaning & Processing"
      ],
      "metadata": {
        "id": "NWb-BFXKheku"
      }
    },
    {
      "cell_type": "code",
      "source": [
        "import numpy as np\n",
        "import pandas as pd"
      ],
      "metadata": {
        "id": "XkMzudPDBTq5"
      },
      "execution_count": 1,
      "outputs": []
    },
    {
      "cell_type": "code",
      "source": [
        "\n",
        "from matplotlib import rcParams # rcParams is a file that specifies Matplotlib style defaults\n",
        "from matplotlib import pyplot as plt\n",
        "\n",
        "rcParams['figure.figsize'] = [20, 4]\n",
        "rcParams['font.size'] = 15\n",
        "rcParams['axes.spines.top'] = False\n",
        "rcParams['axes.spines.right'] = False\n",
        "rcParams['figure.autolayout'] = True"
      ],
      "metadata": {
        "id": "iD1QDE3fW5As"
      },
      "execution_count": 2,
      "outputs": []
    },
    {
      "cell_type": "code",
      "execution_count": 3,
      "metadata": {
        "id": "B7v0ggL-BA5o"
      },
      "outputs": [],
      "source": [
        "import os, requests\n",
        "\n",
        "fname = 'motor_imagery.npz'\n",
        "url = \"https://osf.io/ksqv8/download\"\n",
        "\n",
        "if not os.path.isfile(fname):\n",
        "  try:\n",
        "    r = requests.get(url)\n",
        "  except requests.ConnectionError:\n",
        "    print(\"!!! Failed to download data !!!\")\n",
        "  else:\n",
        "    if r.status_code != requests.codes.ok:\n",
        "      print(\"!!! Failed to download data !!!\")\n",
        "    else:\n",
        "      with open(fname, \"wb\") as fid:\n",
        "        fid.write(r.content)"
      ]
    },
    {
      "cell_type": "code",
      "source": [
        "alldat = np.load(fname, allow_pickle=True)['dat']\n",
        "\n"
      ],
      "metadata": {
        "id": "-DQ2NRiHXJj1"
      },
      "execution_count": 4,
      "outputs": []
    },
    {
      "cell_type": "code",
      "source": [
        "current = 1"
      ],
      "metadata": {
        "id": "yW2Le9d307XQ"
      },
      "execution_count": 5,
      "outputs": []
    },
    {
      "cell_type": "markdown",
      "source": [
        "# Data Reformatting\n",
        "\n",
        "Collecting data without taking the mean of the stimuli"
      ],
      "metadata": {
        "id": "p-u14Byh-1I-"
      }
    },
    {
      "cell_type": "code",
      "source": [
        "num_dicts = alldat.shape[0]\n",
        "\n",
        "arr_new_real = np.empty((1, 2, 30, 2000, 46))\n",
        "\n",
        "arr_new_imag = np.empty((1, 2, 30, 2000, 46))"
      ],
      "metadata": {
        "id": "r6B1ULyl_IKr"
      },
      "execution_count": 6,
      "outputs": []
    },
    {
      "cell_type": "code",
      "source": [
        "\n",
        "from scipy import signal\n",
        "import numpy as np\n",
        "\n",
        "num_dicts = alldat.shape[0]\n",
        "\n",
        "for i in range(1):\n",
        "\n",
        "    dat1 = alldat[current][0]\n",
        "    V = dat1['V'].astype('float32')[:, :46]\n",
        "\n",
        "    b, a = signal.butter(3, [50], btype='high', fs=1000)\n",
        "    V = signal.filtfilt(b, a, V, 0)\n",
        "\n",
        "    V = np.abs(V)**2\n",
        "    b, a = signal.butter(3, [10], btype='low', fs=1000)\n",
        "    V = signal.filtfilt(b, a, V, 0)\n",
        "\n",
        "    V = V/V.mean(0)\n",
        "\n",
        "    nt, nchan = V.shape\n",
        "    nstim = len(dat1['t_on'])\n",
        "    trange = np.arange(0, 2000)\n",
        "    ts = dat1['t_on'][:, np.newaxis] + trange\n",
        "    V_epochs = np.reshape(V[ts, :], (nstim, 2000, nchan))\n",
        "    V_tongue = (V_epochs[dat1['stim_id'] == 11]).mean(0)\n",
        "    V_hand = (V_epochs[dat1['stim_id'] == 12]).mean(0)\n",
        "\n",
        "\n",
        "    arr_new_real[i][0] = V_tongue\n",
        "    arr_new_real[i][1] = V_hand\n",
        "\n",
        "# Create array for real movements. You'll do the same for imaginary.\n",
        "\n",
        "from scipy import signal\n",
        "import numpy as np\n",
        "\n",
        "num_dicts = alldat.shape[0]\n",
        "\n",
        "for i in range(1):\n",
        "\n",
        "    dat1 = alldat[current][1]\n",
        "    V = dat1['V'].astype('float32')[:,:46]\n",
        "\n",
        "\n",
        "    b, a = signal.butter(3, [50], btype='high', fs=1000)\n",
        "    V = signal.filtfilt(b, a, V, 0)\n",
        "\n",
        "    V = np.abs(V)**2\n",
        "    b, a = signal.butter(3, [10], btype='low', fs=1000)\n",
        "    V = signal.filtfilt(b, a, V, 0)\n",
        "\n",
        "    V = V/V.mean(0)\n",
        "\n",
        "    nt, nchan = V.shape\n",
        "    nstim = len(dat1['t_on'])\n",
        "    trange = np.arange(0, 2000)\n",
        "    ts = dat1['t_on'][:, np.newaxis] + trange\n",
        "    V_epochs = np.reshape(V[ts, :], (nstim, 2000, nchan))\n",
        "    V_tongue = (V_epochs[dat1['stim_id'] == 11])\n",
        "    V_hand = (V_epochs[dat1['stim_id'] == 12])\n",
        "\n",
        "    arr_new_imag[i][0] = V_tongue\n",
        "    arr_new_imag[i][1] = V_hand"
      ],
      "metadata": {
        "id": "-KdZPHSh_IKs"
      },
      "execution_count": 7,
      "outputs": []
    },
    {
      "cell_type": "code",
      "source": [
        "arr_new_real.shape\n"
      ],
      "metadata": {
        "colab": {
          "base_uri": "https://localhost:8080/"
        },
        "outputId": "291e9978-95b1-4273-cd71-3bd97caa5496",
        "id": "rybhSe3c_IKs"
      },
      "execution_count": 8,
      "outputs": [
        {
          "output_type": "execute_result",
          "data": {
            "text/plain": [
              "(1, 2, 30, 2000, 46)"
            ]
          },
          "metadata": {},
          "execution_count": 8
        }
      ]
    },
    {
      "cell_type": "markdown",
      "source": [
        "### Initializing groups of data for dimensionality reduction"
      ],
      "metadata": {
        "id": "GGahBysP7Dg1"
      }
    },
    {
      "cell_type": "code",
      "source": [
        "# 4 Groups\n",
        "newrealtongue = arr_new_real[0][0].swapaxes(1,2).reshape(46*30, 2000)\n",
        "newrealhand = arr_new_real[0][1].swapaxes(1,2).reshape(46*30, 2000)\n",
        "newimagtongue = arr_new_imag[0][0].swapaxes(1,2).reshape(46*30, 2000)\n",
        "newimaghand = arr_new_imag[0][1].swapaxes(1,2).reshape(46*30, 2000)\n",
        "\n",
        "newrealtongue.shape\n"
      ],
      "metadata": {
        "colab": {
          "base_uri": "https://localhost:8080/"
        },
        "id": "ZUNc-FsCUprk",
        "outputId": "a39ac4cd-9b50-4c98-8250-fa4866665322"
      },
      "execution_count": 22,
      "outputs": [
        {
          "output_type": "execute_result",
          "data": {
            "text/plain": [
              "(1380, 2000)"
            ]
          },
          "metadata": {},
          "execution_count": 22
        }
      ]
    },
    {
      "cell_type": "code",
      "source": [
        "# 2 Groups without taking a mean\n",
        "print(arr_new_real.shape)\n",
        "real_reshaped = arr_new_real.swapaxes(3, 4)\n",
        "print(real_reshaped.shape)\n",
        "real_final = real_reshaped.reshape(1 * 2 * 46 * 30 , 2000)\n",
        "print(real_final.shape)\n",
        "\n",
        "\n",
        "print(arr_new_imag.shape)\n",
        "imag_reshaped = arr_new_imag.swapaxes(3, 4)\n",
        "print(imag_reshaped.shape)\n",
        "imag_final = imag_reshaped.reshape(1 * 2 * 46 * 30, 2000)\n",
        "print(imag_final.shape)"
      ],
      "metadata": {
        "colab": {
          "base_uri": "https://localhost:8080/"
        },
        "id": "-j3Ru3SQh0oZ",
        "outputId": "05133d29-b3fa-46c8-9325-398198be8b10"
      },
      "execution_count": 36,
      "outputs": [
        {
          "output_type": "stream",
          "name": "stdout",
          "text": [
            "(1, 2, 30, 2000, 46)\n",
            "(1, 2, 30, 46, 2000)\n",
            "(2760, 2000)\n",
            "(1, 2, 30, 2000, 46)\n",
            "(1, 2, 30, 46, 2000)\n",
            "(2760, 2000)\n"
          ]
        }
      ]
    },
    {
      "cell_type": "markdown",
      "source": [
        "## Data Reformatting\n",
        "\n",
        "With taking the mean of the stimuli\n",
        "\n"
      ],
      "metadata": {
        "id": "Z9Y1pUTypXmr"
      }
    },
    {
      "cell_type": "code",
      "source": [
        "num_dicts = alldat.shape[0]\n",
        "\n",
        "arr_new_real = np.empty((1, 2, 2000, 46))\n",
        "\n",
        "arr_new_imag = np.empty((1, 2, 2000, 46))"
      ],
      "metadata": {
        "id": "uZ785zBt69cP"
      },
      "execution_count": 51,
      "outputs": []
    },
    {
      "cell_type": "code",
      "source": [
        "\n",
        "from scipy import signal\n",
        "import numpy as np\n",
        "\n",
        "num_dicts = alldat.shape[0]\n",
        "\n",
        "for i in range(1):\n",
        "\n",
        "    dat1 = alldat[current][0]\n",
        "    V = dat1['V'].astype('float32')[:, :46]\n",
        "\n",
        "    b, a = signal.butter(3, [50], btype='high', fs=1000)\n",
        "    V = signal.filtfilt(b, a, V, 0)\n",
        "\n",
        "    V = np.abs(V)**2\n",
        "    b, a = signal.butter(3, [10], btype='low', fs=1000)\n",
        "    V = signal.filtfilt(b, a, V, 0)\n",
        "\n",
        "    V = V/V.mean(0)\n",
        "\n",
        "    nt, nchan = V.shape\n",
        "    nstim = len(dat1['t_on'])\n",
        "    trange = np.arange(0, 2000)\n",
        "    ts = dat1['t_on'][:, np.newaxis] + trange\n",
        "    V_epochs = np.reshape(V[ts, :], (nstim, 2000, nchan))\n",
        "    V_tongue = (V_epochs[dat1['stim_id'] == 11]).mean(0)\n",
        "    V_hand = (V_epochs[dat1['stim_id'] == 12]).mean(0)\n",
        "\n",
        "\n",
        "    arr_new_real[i][0] = V_tongue\n",
        "    arr_new_real[i][1] = V_hand\n",
        "\n",
        "# Create array for real movements. You'll do the same for imaginary.\n",
        "\n",
        "from scipy import signal\n",
        "import numpy as np\n",
        "\n",
        "num_dicts = alldat.shape[0]\n",
        "\n",
        "for i in range(1):\n",
        "\n",
        "    dat1 = alldat[current][1]\n",
        "    V = dat1['V'].astype('float32')[:,:46]\n",
        "\n",
        "\n",
        "    b, a = signal.butter(3, [50], btype='high', fs=1000)\n",
        "    V = signal.filtfilt(b, a, V, 0)\n",
        "\n",
        "    V = np.abs(V)**2\n",
        "    b, a = signal.butter(3, [10], btype='low', fs=1000)\n",
        "    V = signal.filtfilt(b, a, V, 0)\n",
        "\n",
        "    V = V/V.mean(0)\n",
        "\n",
        "    nt, nchan = V.shape\n",
        "    nstim = len(dat1['t_on'])\n",
        "    trange = np.arange(0, 2000)\n",
        "    ts = dat1['t_on'][:, np.newaxis] + trange\n",
        "    V_epochs = np.reshape(V[ts, :], (nstim, 2000, nchan))\n",
        "    V_tongue = (V_epochs[dat1['stim_id'] == 11]).mean(0)\n",
        "    V_hand = (V_epochs[dat1['stim_id'] == 12]).mean(0)\n",
        "\n",
        "    arr_new_imag[i][0] = V_tongue\n",
        "    arr_new_imag[i][1] = V_hand"
      ],
      "metadata": {
        "id": "ibfyYSxw69cZ"
      },
      "execution_count": 52,
      "outputs": []
    },
    {
      "cell_type": "markdown",
      "source": [
        "### Initializing data with averaged values for dim reduction"
      ],
      "metadata": {
        "id": "RJ7dV_Al7RtA"
      }
    },
    {
      "cell_type": "code",
      "source": [
        "\n",
        "print(arr_new_real.shape)\n",
        "real_reshaped = arr_new_real.swapaxes(2, 3)\n",
        "print(real_reshaped.shape)\n",
        "real_final = real_reshaped.reshape(1 * 2 * 46 , 2000)\n",
        "print(real_final.shape)\n",
        "\n",
        "\n",
        "print(arr_new_imag.shape)\n",
        "imag_reshaped = arr_new_imag.swapaxes(2, 3)\n",
        "print(imag_reshaped.shape)\n",
        "imag_final = imag_reshaped.reshape(1 * 2 * 46, 2000)\n",
        "print(imag_final.shape)"
      ],
      "metadata": {
        "colab": {
          "base_uri": "https://localhost:8080/"
        },
        "id": "1RSZZcftmcb1",
        "outputId": "972fbbad-ed20-4f23-dc6c-5457fdde5c63"
      },
      "execution_count": 53,
      "outputs": [
        {
          "output_type": "stream",
          "name": "stdout",
          "text": [
            "(1, 2, 2000, 46)\n",
            "(1, 2, 46, 2000)\n",
            "(92, 2000)\n",
            "(1, 2, 2000, 46)\n",
            "(1, 2, 46, 2000)\n",
            "(92, 2000)\n"
          ]
        }
      ]
    },
    {
      "cell_type": "markdown",
      "source": [
        "## Finalizing the data"
      ],
      "metadata": {
        "id": "zx7THzsb7Vwa"
      }
    },
    {
      "cell_type": "code",
      "source": [
        "full_arr = np.concatenate([real_final, imag_final], axis=0)\n",
        "full_arr.shape"
      ],
      "metadata": {
        "colab": {
          "base_uri": "https://localhost:8080/"
        },
        "id": "1v-gXs3ajLEn",
        "outputId": "b92305d6-303b-46d2-921f-7498b40ab67c"
      },
      "execution_count": 54,
      "outputs": [
        {
          "output_type": "execute_result",
          "data": {
            "text/plain": [
              "(184, 2000)"
            ]
          },
          "metadata": {},
          "execution_count": 54
        }
      ]
    },
    {
      "cell_type": "code",
      "source": [
        "full_arr = np.concatenate([newrealtongue, newrealhand, newimagtongue, newimaghand], axis=0)\n",
        "full_arr.shape"
      ],
      "metadata": {
        "colab": {
          "base_uri": "https://localhost:8080/"
        },
        "id": "FmmS7yiSWE_9",
        "outputId": "b134f24c-ee2f-43e7-fcb3-3aa8970cc288"
      },
      "execution_count": 55,
      "outputs": [
        {
          "output_type": "execute_result",
          "data": {
            "text/plain": [
              "(5520, 2000)"
            ]
          },
          "metadata": {},
          "execution_count": 55
        }
      ]
    },
    {
      "cell_type": "code",
      "source": [
        "labels = np.concatenate([np.zeros(shape=newrealtongue.shape[0]), np.ones(shape=newrealhand.shape[0])*1/3, np.ones(shape=newimaghand.shape[0])*2/3, np.ones(shape=newimaghand.shape[0])])\n",
        "labels.shape"
      ],
      "metadata": {
        "colab": {
          "base_uri": "https://localhost:8080/"
        },
        "id": "txDOvEJhjlEA",
        "outputId": "82d4b71d-6fd9-4c63-b2fa-fc12223404c0"
      },
      "execution_count": 56,
      "outputs": [
        {
          "output_type": "execute_result",
          "data": {
            "text/plain": [
              "(5520,)"
            ]
          },
          "metadata": {},
          "execution_count": 56
        }
      ]
    },
    {
      "cell_type": "markdown",
      "source": [
        "# PCA"
      ],
      "metadata": {
        "id": "ReSq7O4wXTx3"
      }
    },
    {
      "cell_type": "code",
      "execution_count": 57,
      "metadata": {
        "id": "HOBAOaoeNs3R"
      },
      "outputs": [],
      "source": [
        "import keras\n",
        "from keras.datasets import fashion_mnist\n",
        "import numpy as np\n",
        "import matplotlib.pyplot as plt\n",
        "from sklearn.preprocessing import StandardScaler\n",
        "from sklearn.cluster import KMeans"
      ]
    },
    {
      "cell_type": "code",
      "source": [
        "idx = np.random.permutation(len(full_arr))\n",
        "full_arr, labels = full_arr[idx], labels.flatten()[idx]"
      ],
      "metadata": {
        "id": "GVM_dG_kXEQ2"
      },
      "execution_count": 58,
      "outputs": []
    },
    {
      "cell_type": "code",
      "source": [
        "full_trained = StandardScaler().fit_transform(full_arr) #(mean = 0 and variance = 1)"
      ],
      "metadata": {
        "id": "WSHSfVM_OH1N"
      },
      "execution_count": 59,
      "outputs": []
    },
    {
      "cell_type": "code",
      "source": [
        "from sklearn.decomposition import PCA\n",
        "\n",
        "variance = 0.9\n",
        "pca = PCA(variance)"
      ],
      "metadata": {
        "id": "pE8nJcDKOV2F"
      },
      "execution_count": 60,
      "outputs": []
    },
    {
      "cell_type": "code",
      "source": [
        "pca.fit(full_trained)"
      ],
      "metadata": {
        "colab": {
          "base_uri": "https://localhost:8080/",
          "height": 74
        },
        "id": "HRT-YDf_Olia",
        "outputId": "0974596c-04e7-483c-a3d1-faae7c4c761e"
      },
      "execution_count": 61,
      "outputs": [
        {
          "output_type": "execute_result",
          "data": {
            "text/plain": [
              "PCA(n_components=0.9)"
            ],
            "text/html": [
              "<style>#sk-container-id-3 {color: black;background-color: white;}#sk-container-id-3 pre{padding: 0;}#sk-container-id-3 div.sk-toggleable {background-color: white;}#sk-container-id-3 label.sk-toggleable__label {cursor: pointer;display: block;width: 100%;margin-bottom: 0;padding: 0.3em;box-sizing: border-box;text-align: center;}#sk-container-id-3 label.sk-toggleable__label-arrow:before {content: \"▸\";float: left;margin-right: 0.25em;color: #696969;}#sk-container-id-3 label.sk-toggleable__label-arrow:hover:before {color: black;}#sk-container-id-3 div.sk-estimator:hover label.sk-toggleable__label-arrow:before {color: black;}#sk-container-id-3 div.sk-toggleable__content {max-height: 0;max-width: 0;overflow: hidden;text-align: left;background-color: #f0f8ff;}#sk-container-id-3 div.sk-toggleable__content pre {margin: 0.2em;color: black;border-radius: 0.25em;background-color: #f0f8ff;}#sk-container-id-3 input.sk-toggleable__control:checked~div.sk-toggleable__content {max-height: 200px;max-width: 100%;overflow: auto;}#sk-container-id-3 input.sk-toggleable__control:checked~label.sk-toggleable__label-arrow:before {content: \"▾\";}#sk-container-id-3 div.sk-estimator input.sk-toggleable__control:checked~label.sk-toggleable__label {background-color: #d4ebff;}#sk-container-id-3 div.sk-label input.sk-toggleable__control:checked~label.sk-toggleable__label {background-color: #d4ebff;}#sk-container-id-3 input.sk-hidden--visually {border: 0;clip: rect(1px 1px 1px 1px);clip: rect(1px, 1px, 1px, 1px);height: 1px;margin: -1px;overflow: hidden;padding: 0;position: absolute;width: 1px;}#sk-container-id-3 div.sk-estimator {font-family: monospace;background-color: #f0f8ff;border: 1px dotted black;border-radius: 0.25em;box-sizing: border-box;margin-bottom: 0.5em;}#sk-container-id-3 div.sk-estimator:hover {background-color: #d4ebff;}#sk-container-id-3 div.sk-parallel-item::after {content: \"\";width: 100%;border-bottom: 1px solid gray;flex-grow: 1;}#sk-container-id-3 div.sk-label:hover label.sk-toggleable__label {background-color: #d4ebff;}#sk-container-id-3 div.sk-serial::before {content: \"\";position: absolute;border-left: 1px solid gray;box-sizing: border-box;top: 0;bottom: 0;left: 50%;z-index: 0;}#sk-container-id-3 div.sk-serial {display: flex;flex-direction: column;align-items: center;background-color: white;padding-right: 0.2em;padding-left: 0.2em;position: relative;}#sk-container-id-3 div.sk-item {position: relative;z-index: 1;}#sk-container-id-3 div.sk-parallel {display: flex;align-items: stretch;justify-content: center;background-color: white;position: relative;}#sk-container-id-3 div.sk-item::before, #sk-container-id-3 div.sk-parallel-item::before {content: \"\";position: absolute;border-left: 1px solid gray;box-sizing: border-box;top: 0;bottom: 0;left: 50%;z-index: -1;}#sk-container-id-3 div.sk-parallel-item {display: flex;flex-direction: column;z-index: 1;position: relative;background-color: white;}#sk-container-id-3 div.sk-parallel-item:first-child::after {align-self: flex-end;width: 50%;}#sk-container-id-3 div.sk-parallel-item:last-child::after {align-self: flex-start;width: 50%;}#sk-container-id-3 div.sk-parallel-item:only-child::after {width: 0;}#sk-container-id-3 div.sk-dashed-wrapped {border: 1px dashed gray;margin: 0 0.4em 0.5em 0.4em;box-sizing: border-box;padding-bottom: 0.4em;background-color: white;}#sk-container-id-3 div.sk-label label {font-family: monospace;font-weight: bold;display: inline-block;line-height: 1.2em;}#sk-container-id-3 div.sk-label-container {text-align: center;}#sk-container-id-3 div.sk-container {/* jupyter's `normalize.less` sets `[hidden] { display: none; }` but bootstrap.min.css set `[hidden] { display: none !important; }` so we also need the `!important` here to be able to override the default hidden behavior on the sphinx rendered scikit-learn.org. See: https://github.com/scikit-learn/scikit-learn/issues/21755 */display: inline-block !important;position: relative;}#sk-container-id-3 div.sk-text-repr-fallback {display: none;}</style><div id=\"sk-container-id-3\" class=\"sk-top-container\"><div class=\"sk-text-repr-fallback\"><pre>PCA(n_components=0.9)</pre><b>In a Jupyter environment, please rerun this cell to show the HTML representation or trust the notebook. <br />On GitHub, the HTML representation is unable to render, please try loading this page with nbviewer.org.</b></div><div class=\"sk-container\" hidden><div class=\"sk-item\"><div class=\"sk-estimator sk-toggleable\"><input class=\"sk-toggleable__control sk-hidden--visually\" id=\"sk-estimator-id-3\" type=\"checkbox\" checked><label for=\"sk-estimator-id-3\" class=\"sk-toggleable__label sk-toggleable__label-arrow\">PCA</label><div class=\"sk-toggleable__content\"><pre>PCA(n_components=0.9)</pre></div></div></div></div></div>"
            ]
          },
          "metadata": {},
          "execution_count": 61
        }
      ]
    },
    {
      "cell_type": "code",
      "source": [
        "pca.singular_values_"
      ],
      "metadata": {
        "colab": {
          "base_uri": "https://localhost:8080/"
        },
        "id": "Mr-yT_TdOq4o",
        "outputId": "e4e579ce-0bcf-4934-c784-dce7995f1ea7"
      },
      "execution_count": 62,
      "outputs": [
        {
          "output_type": "execute_result",
          "data": {
            "text/plain": [
              "array([1686.40244352, 1189.72436357,  834.96078601,  632.38463285,\n",
              "        605.37322231,  578.97809179,  560.07786742,  543.21800828,\n",
              "        531.01763723,  517.06973881,  504.99940236,  485.24364766,\n",
              "        482.38281362,  463.79474782,  452.33005175,  444.72810305,\n",
              "        431.99845006,  416.12172838,  404.77728302,  385.0714585 ,\n",
              "        373.64090736,  366.6523773 ,  362.24393759,  348.54926564,\n",
              "        336.63228869,  329.39508581])"
            ]
          },
          "metadata": {},
          "execution_count": 62
        }
      ]
    },
    {
      "cell_type": "code",
      "source": [
        "pca.n_components_"
      ],
      "metadata": {
        "colab": {
          "base_uri": "https://localhost:8080/"
        },
        "id": "eBdcpQIZOujM",
        "outputId": "579f1522-56cf-4d69-8ff5-b2f5ab8aea0a"
      },
      "execution_count": 63,
      "outputs": [
        {
          "output_type": "execute_result",
          "data": {
            "text/plain": [
              "26"
            ]
          },
          "metadata": {},
          "execution_count": 63
        }
      ]
    },
    {
      "cell_type": "code",
      "source": [
        "full_trained_reduced = pca.transform(full_trained)"
      ],
      "metadata": {
        "id": "Zs_aiEsiPkRM"
      },
      "execution_count": 64,
      "outputs": []
    },
    {
      "cell_type": "code",
      "source": [
        "full_trained_reduced.shape"
      ],
      "metadata": {
        "colab": {
          "base_uri": "https://localhost:8080/"
        },
        "id": "KkvGgWE0PrGl",
        "outputId": "c9bc8fbf-8fe7-41f8-eec3-75fbc1acb974"
      },
      "execution_count": 65,
      "outputs": [
        {
          "output_type": "execute_result",
          "data": {
            "text/plain": [
              "(5520, 26)"
            ]
          },
          "metadata": {},
          "execution_count": 65
        }
      ]
    },
    {
      "cell_type": "code",
      "source": [
        "labels.shape"
      ],
      "metadata": {
        "colab": {
          "base_uri": "https://localhost:8080/"
        },
        "id": "9lQSLSKMWk6Z",
        "outputId": "6c0fe2bf-e81b-4e44-e0c7-82251ecf33b2"
      },
      "execution_count": 66,
      "outputs": [
        {
          "output_type": "execute_result",
          "data": {
            "text/plain": [
              "(5520,)"
            ]
          },
          "metadata": {},
          "execution_count": 66
        }
      ]
    },
    {
      "cell_type": "code",
      "source": [
        "fig = plt.figure()\n",
        "ax = fig.add_subplot()\n",
        "\n",
        "im = ax.scatter(full_trained_reduced[0:750, 0], full_trained_reduced[0:750, 1], c = labels.flatten()[0:750])\n",
        "fig.colorbar(im, ax=ax)"
      ],
      "metadata": {
        "id": "xMdsmxA6VDmq"
      },
      "execution_count": null,
      "outputs": []
    },
    {
      "cell_type": "code",
      "source": [
        "fig = plt.figure()\n",
        "ax = fig.add_subplot(projection = '3d')\n",
        "\n",
        "im = ax.scatter(full_trained_reduced[0:750, 0], full_trained_reduced[0:750, 1], full_trained_reduced[0:750, 2], c = labels.flatten()[0:750])\n",
        "fig.colorbar(im, ax=ax)"
      ],
      "metadata": {
        "colab": {
          "base_uri": "https://localhost:8080/",
          "height": 409
        },
        "id": "LVspuNK2TfZU",
        "outputId": "6ab03135-bf27-428a-a527-c804f61fffbd"
      },
      "execution_count": 68,
      "outputs": [
        {
          "output_type": "execute_result",
          "data": {
            "text/plain": [
              "<matplotlib.colorbar.Colorbar at 0x7c090d67f250>"
            ]
          },
          "metadata": {},
          "execution_count": 68
        },
        {
          "output_type": "display_data",
          "data": {
            "text/plain": [
              "<Figure size 2000x400 with 2 Axes>"
            ],
            "image/png": "[encoded data removed]"
          },
          "metadata": {}
        }
      ]
    },
    {
      "cell_type": "markdown",
      "source": [
        "## t-SNE"
      ],
      "metadata": {
        "id": "FUNHhLaYYHIU"
      }
    },
    {
      "cell_type": "code",
      "source": [
        "from sklearn.manifold import TSNE\n",
        "\n",
        "tsne = TSNE(n_components=2)\n",
        "X_train_reduced = tsne.fit_transform(full_trained)"
      ],
      "metadata": {
        "id": "Nzz89fANXiVH"
      },
      "execution_count": null,
      "outputs": []
    },
    {
      "cell_type": "code",
      "source": [
        "X_train_reduced.shape"
      ],
      "metadata": {
        "id": "uqxhANRGYma-"
      },
      "execution_count": null,
      "outputs": []
    },
    {
      "cell_type": "code",
      "source": [
        "fig = plt.figure()\n",
        "ax = fig.add_subplot()\n",
        "\n",
        "im = ax.scatter(X_train_reduced[0:750, 0], X_train_reduced[0:750, 1], c = labels.flatten()[0:750])\n",
        "fig.colorbar(im, ax=ax)"
      ],
      "metadata": {
        "id": "EKv2thvBYbYt"
      },
      "execution_count": null,
      "outputs": []
    },
    {
      "cell_type": "code",
      "source": [
        "tsne = TSNE(n_components=3)\n",
        "X_train_reduced = tsne.fit_transform(full_trained)"
      ],
      "metadata": {
        "id": "fMRVdT8gY3eU"
      },
      "execution_count": 72,
      "outputs": []
    },
    {
      "cell_type": "code",
      "source": [
        "fig = plt.figure()\n",
        "ax = fig.add_subplot(projection = '3d')\n",
        "\n",
        "im = ax.scatter(X_train_reduced[0:750, 0], X_train_reduced[0:750, 1], X_train_reduced[0:750, 2], c = labels.flatten()[0:750])\n",
        "fig.colorbar(im, ax=ax)"
      ],
      "metadata": {
        "id": "ujo7iMvbY60X",
        "colab": {
          "base_uri": "https://localhost:8080/",
          "height": 409
        },
        "outputId": "acc1a4cd-a990-4d93-d7bd-13078d06b57b"
      },
      "execution_count": 73,
      "outputs": [
        {
          "output_type": "execute_result",
          "data": {
            "text/plain": [
              "<matplotlib.colorbar.Colorbar at 0x7c090ce5a530>"
            ]
          },
          "metadata": {},
          "execution_count": 73
        },
        {
          "output_type": "display_data",
          "data": {
            "text/plain": [
              "<Figure size 2000x400 with 2 Axes>"
            ],
            "image/png": "[encoded data removed]"
          },
          "metadata": {}
        }
      ]
    },
    {
      "cell_type": "markdown",
      "source": [
        "## UMAP"
      ],
      "metadata": {
        "id": "K_sV8CykgkWH"
      }
    },
    {
      "cell_type": "code",
      "source": [
        "!pip install umap-learn"
      ],
      "metadata": {
        "id": "-nNyO38kSHb-",
        "colab": {
          "base_uri": "https://localhost:8080/"
        },
        "outputId": "6d649dd1-a6b4-4554-eb0d-de0211d7ddc9"
      },
      "execution_count": 74,
      "outputs": [
        {
          "output_type": "stream",
          "name": "stdout",
          "text": [
            "Requirement already satisfied: umap-learn in /usr/local/lib/python3.10/dist-packages (0.5.4)\n",
            "Requirement already satisfied: numpy>=1.17 in /usr/local/lib/python3.10/dist-packages (from umap-learn) (1.23.5)\n",
            "Requirement already satisfied: scipy>=1.3.1 in /usr/local/lib/python3.10/dist-packages (from umap-learn) (1.11.3)\n",
            "Requirement already satisfied: scikit-learn>=0.22 in /usr/local/lib/python3.10/dist-packages (from umap-learn) (1.2.2)\n",
            "Requirement already satisfied: numba>=0.51.2 in /usr/local/lib/python3.10/dist-packages (from umap-learn) (0.56.4)\n",
            "Requirement already satisfied: pynndescent>=0.5 in /usr/local/lib/python3.10/dist-packages (from umap-learn) (0.5.10)\n",
            "Requirement already satisfied: tqdm in /usr/local/lib/python3.10/dist-packages (from umap-learn) (4.66.1)\n",
            "Requirement already satisfied: tbb>=2019.0 in /usr/local/lib/python3.10/dist-packages (from umap-learn) (2021.10.0)\n",
            "Requirement already satisfied: llvmlite<0.40,>=0.39.0dev0 in /usr/local/lib/python3.10/dist-packages (from numba>=0.51.2->umap-learn) (0.39.1)\n",
            "Requirement already satisfied: setuptools in /usr/local/lib/python3.10/dist-packages (from numba>=0.51.2->umap-learn) (67.7.2)\n",
            "Requirement already satisfied: joblib>=0.11 in /usr/local/lib/python3.10/dist-packages (from pynndescent>=0.5->umap-learn) (1.3.2)\n",
            "Requirement already satisfied: threadpoolctl>=2.0.0 in /usr/local/lib/python3.10/dist-packages (from scikit-learn>=0.22->umap-learn) (3.2.0)\n"
          ]
        }
      ]
    },
    {
      "cell_type": "code",
      "source": [
        "from umap import UMAP\n",
        "\n",
        "umap_2d = UMAP(n_components=2, init='random', random_state=0)\n",
        "umap_3d = UMAP(n_components=3, init='random', random_state=0)\n",
        "\n",
        "X_train_reduced = umap_2d.fit_transform(full_trained)\n",
        "X_train_reduced = umap_3d.fit_transform(full_trained)"
      ],
      "metadata": {
        "id": "I-WyXNe2aNzK",
        "colab": {
          "base_uri": "https://localhost:8080/"
        },
        "outputId": "4e0b41ad-962c-472e-99b8-21dae19df4a6"
      },
      "execution_count": null,
      "outputs": [
        {
          "output_type": "stream",
          "name": "stderr",
          "text": [
            "/usr/local/lib/python3.10/dist-packages/umap/umap_.py:1943: UserWarning: n_jobs value -1 overridden to 1 by setting random_state. Use no seed for parallelism.\n",
            "  warn(f\"n_jobs value {self.n_jobs} overridden to 1 by setting random_state. Use no seed for parallelism.\")\n"
          ]
        }
      ]
    },
    {
      "cell_type": "code",
      "source": [
        "fig = plt.figure()\n",
        "ax = fig.add_subplot()\n",
        "\n",
        "im = ax.scatter(X_train_reduced[0:750, 0], X_train_reduced[0:750, 1], c = labels.flatten()[0:750])\n",
        "fig.colorbar(im, ax=ax)"
      ],
      "metadata": {
        "id": "Kld4oft3SB3R"
      },
      "execution_count": null,
      "outputs": []
    },
    {
      "cell_type": "code",
      "source": [
        "fig = plt.figure()\n",
        "ax = fig.add_subplot(projection = '3d')\n",
        "\n",
        "im = ax.scatter(X_train_reduced[0:750, 0], X_train_reduced[0:750, 1], X_train_reduced[0:750, 2], c = labels.flatten()[0:750])\n",
        "fig.colorbar(im, ax=ax)"
      ],
      "metadata": {
        "id": "cDmvW4LRSLEd"
      },
      "execution_count": null,
      "outputs": []
    },
    {
      "cell_type": "code",
      "source": [
        "from sklearn.model_selection import train_test_split\n",
        "\n",
        "X_train, X_test, y_train, y_test = train_test_split(X_train_reduced[:, 0:2], labels.flatten(), test_size=0.2, random_state=42)"
      ],
      "metadata": {
        "id": "OCrdleYmWTVP"
      },
      "execution_count": null,
      "outputs": []
    },
    {
      "cell_type": "code",
      "source": [
        "import matplotlib.pyplot as plt\n",
        "import seaborn as sns\n",
        "from matplotlib.colors import ListedColormap\n",
        "\n",
        "from sklearn import datasets, neighbors\n",
        "from sklearn.inspection import DecisionBoundaryDisplay\n",
        "\n",
        "n_neighbors = 4\n",
        "clf = neighbors.KNeighborsClassifier(n_neighbors, weights=\"uniform\")\n",
        "clf.fit(X_train, y_train)\n",
        "\n",
        "# Create color maps\n",
        "cmap_light = ListedColormap([\"orange\", \"cyan\"])\n",
        "cmap_bold = [\"darkorange\", \"c\"]\n",
        "\n",
        "_, ax = plt.subplots()\n",
        "DecisionBoundaryDisplay.from_estimator(\n",
        "    clf,\n",
        "    X_train,\n",
        "    cmap=cmap_light,\n",
        "    ax=ax,\n",
        "    response_method=\"predict\",\n",
        "    plot_method=\"pcolormesh\",\n",
        "    shading=\"auto\",\n",
        "    )\n",
        "\n",
        "# Plot also the training points\n",
        "sns.scatterplot(\n",
        "    x=X_train[:, 0],\n",
        "    y=X_train[:, 1],\n",
        "    hue=y_train,\n",
        "    palette=cmap_bold,\n",
        "    alpha=1.0,\n",
        "    edgecolor=\"black\",\n",
        "  )\n",
        "\n",
        "plt.title(\n",
        "    \"2-Class Classification (k = %i, weights = '%s')\" % (n_neighbors, \"uniform\")\n",
        "    )"
      ],
      "metadata": {
        "id": "komEN1l4sTzZ"
      },
      "execution_count": null,
      "outputs": []
    },
    {
      "cell_type": "code",
      "source": [
        "import matplotlib.pyplot as plt\n",
        "import seaborn as sns\n",
        "from sklearn import datasets, neighbors\n",
        "\n",
        "n_neighbors = 4\n",
        "clf = neighbors.KNeighborsRegressor(n_neighbors, weights=\"uniform\")\n",
        "clf.fit(X_train, y_train)\n",
        "\n",
        "# Create a mesh to plot in\n",
        "x_min, x_max = X_train[:, 0].min() - 1, X_train[:, 0].max() + 1\n",
        "y_min, y_max = X_train[:, 1].min() - 1, X_train[:, 1].max() + 1\n",
        "xx, yy = np.meshgrid(np.arange(x_min, x_max, .02),\n",
        "                     np.arange(y_min, y_max, .02))\n",
        "\n",
        "Z = clf.predict(np.c_[xx.ravel(), yy.ravel()])\n",
        "\n",
        "# Put the result into a color plot\n",
        "Z = Z.reshape(xx.shape)\n",
        "plt.figure()\n",
        "plt.pcolormesh(xx, yy, Z, shading='auto', cmap='RdYlBu')\n",
        "\n",
        "# Plot also the training points\n",
        "plt.scatter(X_train[:, 0], X_train[:, 1], c=y_train, edgecolor='k', s=20)\n",
        "plt.title(\"4-Class Classification (k = %i, weights = '%s')\" % (n_neighbors, \"uniform\"))\n",
        "plt.show()\n"
      ],
      "metadata": {
        "id": "DFggeSdqc_j-"
      },
      "execution_count": null,
      "outputs": []
    },
    {
      "cell_type": "code",
      "source": [
        "print(f\"train score: {clf.score(X_train, y_train)}\")\n",
        "print(f\"test score: {clf.score(X_test, y_test)}\")"
      ],
      "metadata": {
        "id": "jCaRBpDtsXS7"
      },
      "execution_count": null,
      "outputs": []
    },
    {
      "cell_type": "code",
      "source": [
        "\n",
        "xtr, xte, ytr, yte = train_test_split(real_final, imag_final, test_size=0.2, random_state=42)\n",
        "\n",
        "xtr.shape\n",
        "ytr.shape\n",
        "xte.shape\n",
        "real_final.shape"
      ],
      "metadata": {
        "id": "jbmUKFnfu1uv"
      },
      "execution_count": null,
      "outputs": []
    },
    {
      "cell_type": "code",
      "source": [],
      "metadata": {
        "id": "4HZ3YlTVqkoH"
      },
      "execution_count": null,
      "outputs": []
    }
  ]
}